{
  "cells": [
    {
      "cell_type": "markdown",
      "metadata": {
        "id": "MBpvjX0Urcow"
      },
      "source": [
        "#The Code is form: https://github.com/michaeltinsley/Gridworld-with-Q-Learning-Reinforcement-Learning- \n",
        "# The agent-environment interaction\n",
        "\n",
        "In this exercise, you will implement the interaction of a reinforecment learning agent with its environment. We will use the gridworld environment from the second lecture. You will find a description of the environment below, along with two pieces of relevant material from the lectures: the agent-environment interface and the Q-learning algorithm.\n",
        "\n",
        "1. Create an agent that chooses actions randomly with this environment. \n",
        "\n",
        "2. Create an agent that uses Q-learning. You can use initial Q values of 0, a stochasticity parameter for the $\\epsilon$-greedy policy function $\\epsilon=0.05$, and a learning rate $\\alpha = 0.1$. But feel free to experiment with other settings of these three parameters.\n",
        "\n",
        "3. Plot the mean total reward obtained by the two agents through the episodes. This is called a **learning curve**. Run enough episodes for the Q-learning agent to converge to a near-optimal policy. \n"
      ]
    },
    {
      "cell_type": "markdown",
      "metadata": {
        "id": "zaqAybwFrcoy"
      },
      "source": [
        "## The agent-environment interface\n",
        "\n",
        "<img src=\"img/agent-environment.png\" style=\"width: 500px;\" align=\"left\"/> \n",
        "\n",
        "<br><br><br>\n",
        "\n",
        "The interaction of the agent with its environments starts at decision stage $t=0$ with the observation of the current state $s_0$. (Notice that there is no reward at this initial stage.) The agent then chooses an action to execute at decision stage $t=1$. The environment responds by changing its state to $s_1$ and returning the numerical reward signal $r_1$. \n"
      ]
    },
    {
      "cell_type": "markdown",
      "metadata": {
        "id": "OF4085n0rcoy"
      },
      "source": [
        "## The environment: Navigation in a gridworld\n",
        "\n",
        "<img src=\"img/gold.png\" style=\"width: 250px;\" align=\"left\"/>\n",
        "\n",
        "The agent has four possible actions in each state (grid square): west, north, south, and east. The actions are unreliable. They move the agent in the intended direction with probability 0.8, and with probability 0.2, they move the agent in a random other direction. It the direction of movement is blocked, the agent remains in the same grid square. The initial state of the agent is one of the five grid squares at the bottom, selected randomly. The grid squares with the gold and the bomb are **terminal states**. If the agent finds itself in one of these squares, the episode ends. Then a new episode begins with the agent at the initial state.\n",
        "\n",
        "You will use a reinforcement learning algorithm to compute the best policy for finding the gold with as few steps as possible while avoiding the bomb. For this, we will use the following reward function: $-1$ for each navigation action, an additional $+10$ for finding the gold, and an additional $-10$ for hitting the bomb. For example, the immediate reward for transitioning into the square with the gold is $-1 + 10 = +9$. Do not use discounting (that is, set $\\gamma=1$)."
      ]
    },
    {
      "cell_type": "markdown",
      "metadata": {
        "id": "TMsVw1w_rcoz"
      },
      "source": [
        "## Q-learning\n",
        "\n",
        "![title](img/q.png)\n",
        "From Sutton & Barto (1998), Reinforcement Learning."
      ]
    },
    {
      "cell_type": "code",
      "execution_count": null,
      "metadata": {
        "id": "nr2WY9Y3rco0"
      },
      "outputs": [],
      "source": [
        "import numpy as np\n",
        "import operator\n",
        "import matplotlib.pyplot as plt\n",
        "%matplotlib inline"
      ]
    },
    {
      "cell_type": "markdown",
      "metadata": {
        "id": "zfbCJBv2rco1"
      },
      "source": [
        "# Classes for the Enviroment and the Agent"
      ]
    },
    {
      "cell_type": "markdown",
      "metadata": {
        "id": "BIXQdmiorco1"
      },
      "source": [
        "- The GridWorld class contains the environment\n",
        "- The dimensions of the environment are defined\n",
        "- Locations of all rewards are stored\n",
        "- Functions for different methods written\n",
        "    - `get_available_actions` returns possible actions\n",
        "    - `agent_on_map` prints out current location of the agent on the grid (used for debugging)\n",
        "    - `get_reward` returns the reward for an input position\n",
        "    - `make_step` moves the agent in a specified direction"
      ]
    },
    {
      "cell_type": "code",
      "execution_count": null,
      "metadata": {
        "id": "iJPoLj7Zrco2"
      },
      "outputs": [],
      "source": [
        "class GridWorld:\n",
        "    ## Initialise starting data\n",
        "    def __init__(self):\n",
        "        # Set information about the gridworld\n",
        "        self.height = 5\n",
        "        self.width = 5\n",
        "        self.grid = np.zeros(( self.height, self.width)) - 1\n",
        "        \n",
        "        # Set random start location for the agent\n",
        "        self.current_location = ( 4, np.random.randint(0,5))\n",
        "        \n",
        "        # Set locations for the bomb and the gold\n",
        "        self.bomb_location = (1,3)\n",
        "        self.gold_location = (0,3)\n",
        "        self.terminal_states = [ self.bomb_location, self.gold_location]\n",
        "        \n",
        "        # Set grid rewards for special cells\n",
        "        self.grid[ self.bomb_location[0], self.bomb_location[1]] = -10\n",
        "        self.grid[ self.gold_location[0], self.gold_location[1]] = 10\n",
        "        \n",
        "        # Set available actions\n",
        "        self.actions = ['UP', 'DOWN', 'LEFT', 'RIGHT']\n",
        "    \n",
        "        \n",
        "    ## Put methods here:\n",
        "    def get_available_actions(self):\n",
        "        \"\"\"Returns possible actions\"\"\"\n",
        "        return self.actions\n",
        "    \n",
        "    def agent_on_map(self):\n",
        "        \"\"\"Prints out current location of the agent on the grid (used for debugging)\"\"\"\n",
        "        grid = np.zeros(( self.height, self.width))\n",
        "        grid[ self.current_location[0], self.current_location[1]] = 1\n",
        "        return grid\n",
        "    \n",
        "    def get_reward(self, new_location):\n",
        "        \"\"\"Returns the reward for an input position\"\"\"\n",
        "        return self.grid[ new_location[0], new_location[1]]\n",
        "        \n",
        "    \n",
        "    def make_step(self, action):\n",
        "        \"\"\"Moves the agent in the specified direction. If agent is at a border, agent stays still\n",
        "        but takes negative reward. Function returns the reward for the move.\"\"\"\n",
        "        # Store previous location\n",
        "        last_location = self.current_location\n",
        "        \n",
        "        # UP\n",
        "        if action == 'UP':\n",
        "            # If agent is at the top, stay still, collect reward\n",
        "            if last_location[0] == 0:\n",
        "                reward = self.get_reward(last_location)\n",
        "            else:\n",
        "                self.current_location = ( self.current_location[0] - 1, self.current_location[1])\n",
        "                reward = self.get_reward(self.current_location)\n",
        "        \n",
        "        # DOWN\n",
        "        elif action == 'DOWN':\n",
        "            # If agent is at bottom, stay still, collect reward\n",
        "            if last_location[0] == self.height - 1:\n",
        "                reward = self.get_reward(last_location)\n",
        "            else:\n",
        "                self.current_location = ( self.current_location[0] + 1, self.current_location[1])\n",
        "                reward = self.get_reward(self.current_location)\n",
        "            \n",
        "        # LEFT\n",
        "        elif action == 'LEFT':\n",
        "            # If agent is at the left, stay still, collect reward\n",
        "            if last_location[1] == 0:\n",
        "                reward = self.get_reward(last_location)\n",
        "            else:\n",
        "                self.current_location = ( self.current_location[0], self.current_location[1] - 1)\n",
        "                reward = self.get_reward(self.current_location)\n",
        "\n",
        "        # RIGHT\n",
        "        elif action == 'RIGHT':\n",
        "            # If agent is at the right, stay still, collect reward\n",
        "            if last_location[1] == self.width - 1:\n",
        "                reward = self.get_reward(last_location)\n",
        "            else:\n",
        "                self.current_location = ( self.current_location[0], self.current_location[1] + 1)\n",
        "                reward = self.get_reward(self.current_location)\n",
        "                \n",
        "        return reward\n",
        "    \n",
        "    def check_state(self):\n",
        "        \"\"\"Check if the agent is in a terminal state (gold or bomb), if so return 'TERMINAL'\"\"\"\n",
        "        if self.current_location in self.terminal_states:\n",
        "            return 'TERMINAL'"
      ]
    },
    {
      "cell_type": "code",
      "execution_count": null,
      "metadata": {
        "id": "lQKsajUprco2"
      },
      "outputs": [],
      "source": [
        "class RandomAgent():        \n",
        "    # Choose a random action\n",
        "    def choose_action(self, available_actions):\n",
        "        \"\"\"Returns a random choice of the available actions\"\"\"\n",
        "        return np.random.choice(available_actions)   "
      ]
    },
    {
      "cell_type": "code",
      "execution_count": null,
      "metadata": {
        "id": "Y5e8u4cOrco3"
      },
      "outputs": [],
      "source": [
        "class Q_Agent():\n",
        "    # Intialise\n",
        "    def __init__(self, environment, epsilon=0.05, alpha=0.1, gamma=1):\n",
        "        self.environment = environment\n",
        "        self.q_table = dict() # Store all Q-values in dictionary of dictionaries \n",
        "        for x in range(environment.height): # Loop through all possible grid spaces, create sub-dictionary for each\n",
        "            for y in range(environment.width):\n",
        "                self.q_table[(x,y)] = {'UP':0, 'DOWN':0, 'LEFT':0, 'RIGHT':0} # Populate sub-dictionary with zero values for possible moves\n",
        "\n",
        "        self.epsilon = epsilon\n",
        "        self.alpha = alpha\n",
        "        self.gamma = gamma\n",
        "        \n",
        "    def choose_action(self, available_actions):\n",
        "        \"\"\"Returns the optimal action from Q-Value table. If multiple optimal actions, chooses random choice.\n",
        "        Will make an exploratory random action dependent on epsilon.\"\"\"\n",
        "        if np.random.uniform(0,1) < self.epsilon:\n",
        "            action = available_actions[np.random.randint(0, len(available_actions))]\n",
        "        else:\n",
        "            q_values_of_state = self.q_table[self.environment.current_location]\n",
        "            maxValue = max(q_values_of_state.values())\n",
        "            action = np.random.choice([k for k, v in q_values_of_state.items() if v == maxValue])\n",
        "        \n",
        "        return action\n",
        "    \n",
        "    def learn(self, old_state, reward, new_state, action):\n",
        "        \"\"\"Task1: Updates the Q-value table using Q-learning\"\"\"\n",
        "\n",
        "\n",
        "        "
      ]
    },
    {
      "cell_type": "code",
      "execution_count": null,
      "metadata": {
        "id": "T0gf6ZmVrco3"
      },
      "outputs": [],
      "source": [
        "def play(environment, agent, trials=500, max_steps_per_episode=1000, learn=False):\n",
        "    \"\"\"The play function runs iterations and updates Q-values if desired.\"\"\"\n",
        "    reward_per_episode = [] # Initialise performance log\n",
        "    \n",
        "    for trial in range(trials): # Run trials\n",
        "        cumulative_reward = 0 # Initialise values of each game\n",
        "        step = 0\n",
        "        game_over = False\n",
        "        while step < max_steps_per_episode and game_over != True: # Run until max steps or until game is finished\n",
        "            old_state = environment.current_location\n",
        "            action = agent.choose_action(environment.actions) \n",
        "            reward = environment.make_step(action)\n",
        "            new_state = environment.current_location\n",
        "            \n",
        "            if learn == True: # Update Q-values if learning is specified\n",
        "                agent.learn(old_state, reward, new_state, action)\n",
        "                \n",
        "            cumulative_reward += reward\n",
        "            step += 1\n",
        "            \n",
        "            if environment.check_state() == 'TERMINAL': # If game is in terminal state, game over and start next trial\n",
        "                environment.__init__()\n",
        "                game_over = True     \n",
        "                \n",
        "        reward_per_episode.append(cumulative_reward) # Append reward for current trial to performance log\n",
        "        \n",
        "    return reward_per_episode # Return performance log"
      ]
    },
    {
      "cell_type": "markdown",
      "metadata": {
        "id": "f-iabGmprco3"
      },
      "source": [
        "## Run Random Agent\n",
        "\n",
        "- Random agent moves randomly and does not learn from it's actions.\n",
        "- This gives a base performance to compare the Q-Learning agent to"
      ]
    },
    {
      "cell_type": "code",
      "execution_count": null,
      "metadata": {
        "colab": {
          "base_uri": "https://localhost:8080/"
        },
        "id": "O7sDpBsRrco4",
        "outputId": "c70da76d-0c9a-4fad-a1d0-ccee846708fa"
      },
      "outputs": [
        {
          "output_type": "stream",
          "name": "stdout",
          "text": [
            "Current position of the agent = (4, 4)\n",
            "[[0. 0. 0. 0. 0.]\n",
            " [0. 0. 0. 0. 0.]\n",
            " [0. 0. 0. 0. 0.]\n",
            " [0. 0. 0. 0. 0.]\n",
            " [0. 0. 0. 0. 1.]]\n",
            "Available_actions = ['UP', 'DOWN', 'LEFT', 'RIGHT']\n",
            "Randomly chosen action = LEFT\n",
            "Reward obtained = -1.0\n",
            "Current position of the agent = (4, 3)\n",
            "[[0. 0. 0. 0. 0.]\n",
            " [0. 0. 0. 0. 0.]\n",
            " [0. 0. 0. 0. 0.]\n",
            " [0. 0. 0. 0. 0.]\n",
            " [0. 0. 0. 1. 0.]]\n"
          ]
        }
      ],
      "source": [
        "env = GridWorld()\n",
        "agent = RandomAgent()\n",
        "\n",
        "print(\"Current position of the agent =\", env.current_location)\n",
        "print(env.agent_on_map())\n",
        "available_actions = env.get_available_actions()\n",
        "print(\"Available_actions =\", available_actions)\n",
        "chosen_action = agent.choose_action(available_actions)\n",
        "print(\"Randomly chosen action =\", chosen_action)\n",
        "reward = env.make_step(chosen_action)\n",
        "print(\"Reward obtained =\", reward)\n",
        "print(\"Current position of the agent =\", env.current_location)\n",
        "print(env.agent_on_map())"
      ]
    },
    {
      "cell_type": "markdown",
      "metadata": {
        "id": "T7ckjtfrrco5"
      },
      "source": [
        "- Here the random agent is ran for 500 trials\n",
        "- Performance is obviously inconsistent and not optimal"
      ]
    },
    {
      "cell_type": "code",
      "execution_count": null,
      "metadata": {
        "colab": {
          "base_uri": "https://localhost:8080/",
          "height": 282
        },
        "id": "zWSemKbDrco5",
        "outputId": "2e6e6ace-8947-416f-e5c0-697a9a37b5f4"
      },
      "outputs": [
        {
          "output_type": "execute_result",
          "data": {
            "text/plain": [
              "[<matplotlib.lines.Line2D at 0x7f57a861ee10>]"
            ]
          },
          "metadata": {},
          "execution_count": 13
        },
        {
          "output_type": "display_data",
          "data": {
            "image/png": "[encoded data removed]",
            "text/plain": [
              "<Figure size 432x288 with 1 Axes>"
            ]
          },
          "metadata": {
            "needs_background": "light"
          }
        }
      ],
      "source": [
        "# Initialize environment and agent\n",
        "environment = GridWorld()\n",
        "random_agent = RandomAgent()\n",
        "\n",
        "reward_per_episode = play(environment, random_agent, trials=500)\n",
        "\n",
        "# Simple learning curve\n",
        "plt.plot(reward_per_episode)"
      ]
    },
    {
      "cell_type": "markdown",
      "metadata": {
        "id": "7PA-HroMrco6"
      },
      "source": [
        "## Q-Agent\n",
        "\n",
        "- Here the Q-Learning agent is ran for 500 trials again\n",
        "- Performance is plotted\n",
        "- Performance increases greatly"
      ]
    },
    {
      "cell_type": "code",
      "execution_count": null,
      "metadata": {
        "colab": {
          "base_uri": "https://localhost:8080/",
          "height": 282
        },
        "id": "7hZf8L5trco6",
        "outputId": "2684640a-4f01-4816-ea7e-01c03fc39d52"
      },
      "outputs": [
        {
          "output_type": "execute_result",
          "data": {
            "text/plain": [
              "[<matplotlib.lines.Line2D at 0x7f57a857a450>]"
            ]
          },
          "metadata": {},
          "execution_count": 14
        },
        {
          "output_type": "display_data",
          "data": {
            "image/png": "[encoded data removed]",
            "text/plain": [
              "<Figure size 432x288 with 1 Axes>"
            ]
          },
          "metadata": {
            "needs_background": "light"
          }
        }
      ],
      "source": [
        "environment = GridWorld()\n",
        "agentQ = Q_Agent(environment)\n",
        "\n",
        "# Note the learn=True argument!\n",
        "reward_per_episode = play(environment, agentQ, trials=500, learn=True)\n",
        "\n",
        "# Simple learning curve\n",
        "plt.plot(reward_per_episode)"
      ]
    },
    {
      "cell_type": "markdown",
      "metadata": {
        "id": "a1e-1yZ1rco6"
      },
      "source": [
        "Print the final Q-value table with nice formatting."
      ]
    },
    {
      "cell_type": "code",
      "execution_count": null,
      "metadata": {
        "colab": {
          "base_uri": "https://localhost:8080/"
        },
        "id": "GgMTuoc5rco6",
        "outputId": "a5d21cf5-6d48-4c1b-c240-e829358275af"
      },
      "outputs": [
        {
          "output_type": "stream",
          "name": "stdout",
          "text": [
            "(0, 0)\n",
            "\tUP\n",
            "\t\t0\n",
            "\tDOWN\n",
            "\t\t0\n",
            "\tLEFT\n",
            "\t\t0\n",
            "\tRIGHT\n",
            "\t\t0\n",
            "(0, 1)\n",
            "\tUP\n",
            "\t\t0\n",
            "\tDOWN\n",
            "\t\t0\n",
            "\tLEFT\n",
            "\t\t0\n",
            "\tRIGHT\n",
            "\t\t0\n",
            "(0, 2)\n",
            "\tUP\n",
            "\t\t0\n",
            "\tDOWN\n",
            "\t\t0\n",
            "\tLEFT\n",
            "\t\t0\n",
            "\tRIGHT\n",
            "\t\t0\n",
            "(0, 3)\n",
            "\tUP\n",
            "\t\t0\n",
            "\tDOWN\n",
            "\t\t0\n",
            "\tLEFT\n",
            "\t\t0\n",
            "\tRIGHT\n",
            "\t\t0\n",
            "(0, 4)\n",
            "\tUP\n",
            "\t\t0\n",
            "\tDOWN\n",
            "\t\t0\n",
            "\tLEFT\n",
            "\t\t0\n",
            "\tRIGHT\n",
            "\t\t0\n",
            "(1, 0)\n",
            "\tUP\n",
            "\t\t0\n",
            "\tDOWN\n",
            "\t\t0\n",
            "\tLEFT\n",
            "\t\t0\n",
            "\tRIGHT\n",
            "\t\t0\n",
            "(1, 1)\n",
            "\tUP\n",
            "\t\t0\n",
            "\tDOWN\n",
            "\t\t0\n",
            "\tLEFT\n",
            "\t\t0\n",
            "\tRIGHT\n",
            "\t\t0\n",
            "(1, 2)\n",
            "\tUP\n",
            "\t\t0\n",
            "\tDOWN\n",
            "\t\t0\n",
            "\tLEFT\n",
            "\t\t0\n",
            "\tRIGHT\n",
            "\t\t0\n",
            "(1, 3)\n",
            "\tUP\n",
            "\t\t0\n",
            "\tDOWN\n",
            "\t\t0\n",
            "\tLEFT\n",
            "\t\t0\n",
            "\tRIGHT\n",
            "\t\t0\n",
            "(1, 4)\n",
            "\tUP\n",
            "\t\t0\n",
            "\tDOWN\n",
            "\t\t0\n",
            "\tLEFT\n",
            "\t\t0\n",
            "\tRIGHT\n",
            "\t\t0\n",
            "(2, 0)\n",
            "\tUP\n",
            "\t\t0\n",
            "\tDOWN\n",
            "\t\t0\n",
            "\tLEFT\n",
            "\t\t0\n",
            "\tRIGHT\n",
            "\t\t0\n",
            "(2, 1)\n",
            "\tUP\n",
            "\t\t0\n",
            "\tDOWN\n",
            "\t\t0\n",
            "\tLEFT\n",
            "\t\t0\n",
            "\tRIGHT\n",
            "\t\t0\n",
            "(2, 2)\n",
            "\tUP\n",
            "\t\t0\n",
            "\tDOWN\n",
            "\t\t0\n",
            "\tLEFT\n",
            "\t\t0\n",
            "\tRIGHT\n",
            "\t\t0\n",
            "(2, 3)\n",
            "\tUP\n",
            "\t\t0\n",
            "\tDOWN\n",
            "\t\t0\n",
            "\tLEFT\n",
            "\t\t0\n",
            "\tRIGHT\n",
            "\t\t0\n",
            "(2, 4)\n",
            "\tUP\n",
            "\t\t0\n",
            "\tDOWN\n",
            "\t\t0\n",
            "\tLEFT\n",
            "\t\t0\n",
            "\tRIGHT\n",
            "\t\t0\n",
            "(3, 0)\n",
            "\tUP\n",
            "\t\t0\n",
            "\tDOWN\n",
            "\t\t0\n",
            "\tLEFT\n",
            "\t\t0\n",
            "\tRIGHT\n",
            "\t\t0\n",
            "(3, 1)\n",
            "\tUP\n",
            "\t\t0\n",
            "\tDOWN\n",
            "\t\t0\n",
            "\tLEFT\n",
            "\t\t0\n",
            "\tRIGHT\n",
            "\t\t0\n",
            "(3, 2)\n",
            "\tUP\n",
            "\t\t0\n",
            "\tDOWN\n",
            "\t\t0\n",
            "\tLEFT\n",
            "\t\t0\n",
            "\tRIGHT\n",
            "\t\t0\n",
            "(3, 3)\n",
            "\tUP\n",
            "\t\t0\n",
            "\tDOWN\n",
            "\t\t0\n",
            "\tLEFT\n",
            "\t\t0\n",
            "\tRIGHT\n",
            "\t\t0\n",
            "(3, 4)\n",
            "\tUP\n",
            "\t\t0\n",
            "\tDOWN\n",
            "\t\t0\n",
            "\tLEFT\n",
            "\t\t0\n",
            "\tRIGHT\n",
            "\t\t0\n",
            "(4, 0)\n",
            "\tUP\n",
            "\t\t0\n",
            "\tDOWN\n",
            "\t\t0\n",
            "\tLEFT\n",
            "\t\t0\n",
            "\tRIGHT\n",
            "\t\t0\n",
            "(4, 1)\n",
            "\tUP\n",
            "\t\t0\n",
            "\tDOWN\n",
            "\t\t0\n",
            "\tLEFT\n",
            "\t\t0\n",
            "\tRIGHT\n",
            "\t\t0\n",
            "(4, 2)\n",
            "\tUP\n",
            "\t\t0\n",
            "\tDOWN\n",
            "\t\t0\n",
            "\tLEFT\n",
            "\t\t0\n",
            "\tRIGHT\n",
            "\t\t0\n",
            "(4, 3)\n",
            "\tUP\n",
            "\t\t0\n",
            "\tDOWN\n",
            "\t\t0\n",
            "\tLEFT\n",
            "\t\t0\n",
            "\tRIGHT\n",
            "\t\t0\n",
            "(4, 4)\n",
            "\tUP\n",
            "\t\t0\n",
            "\tDOWN\n",
            "\t\t0\n",
            "\tLEFT\n",
            "\t\t0\n",
            "\tRIGHT\n",
            "\t\t0\n"
          ]
        }
      ],
      "source": [
        "def pretty(d, indent=0):\n",
        "    for key, value in d.items():\n",
        "        print('\\t' * indent + str(key))\n",
        "        if isinstance(value, dict):\n",
        "            pretty(value, indent+1)\n",
        "        else:\n",
        "            print('\\t' * (indent+1) + str(value))\n",
        "\n",
        "\n",
        "pretty(agentQ.q_table)"
      ]
    }
  ],
  "metadata": {
    "kernelspec": {
      "display_name": "Python 3",
      "language": "python",
      "name": "python3"
    },
    "language_info": {
      "codemirror_mode": {
        "name": "ipython",
        "version": 3
      },
      "file_extension": ".py",
      "mimetype": "text/x-python",
      "name": "python",
      "nbconvert_exporter": "python",
      "pygments_lexer": "ipython3",
      "version": "3.9.5"
    },
    "colab": {
      "name": "OSAP_Gridworld.ipynb",
      "provenance": [],
      "collapsed_sections": []
    }
  },
  "nbformat": 4,
  "nbformat_minor": 0
}