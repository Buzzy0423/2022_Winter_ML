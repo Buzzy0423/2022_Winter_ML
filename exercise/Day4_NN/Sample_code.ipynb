{
  "cells": [
    {
      "cell_type": "code",
      "execution_count": 1,
      "metadata": {
        "id": "ocr-cLaylXPM"
      },
      "outputs": [],
      "source": [
        "import numpy as np\n",
        "import matplotlib.pyplot as plt\n",
        "\n",
        "%matplotlib inline"
      ]
    },
    {
      "cell_type": "code",
      "execution_count": 2,
      "metadata": {
        "id": "ydlJKbMXjGEH"
      },
      "outputs": [],
      "source": [
        "def plotClass(X,y,p):\n",
        "    plt.figure()\n",
        "    for i in range(y.shape[1]):\n",
        "        if y[0,i]==0:\n",
        "            plt.plot(X[0,i],X[1,i],'r'+p)\n",
        "        else:\n",
        "            plt.plot(X[0,i],X[1,i],'b'+p)\n",
        "            \n",
        "    plt.show()"
      ]
    },
    {
      "cell_type": "code",
      "execution_count": 3,
      "metadata": {
        "colab": {
          "base_uri": "https://localhost:8080/",
          "height": 317
        },
        "id": "_sfYF-FHlwoG",
        "outputId": "178d750c-e2ab-4530-9e9c-e1d5290c64e5"
      },
      "outputs": [
        {
          "name": "stdout",
          "output_type": "stream",
          "text": [
            "(2, 200)\n",
            "(1, 200)\n"
          ]
        },
        {
          "data": {
            "text/plain": [
              "[<matplotlib.lines.Line2D at 0x7ff5a7f58100>]"
            ]
          },
          "execution_count": 3,
          "metadata": {},
          "output_type": "execute_result"
        },
        {
          "data": {
            "image/png": "[encoded data removed]",
            "text/plain": [
              "<Figure size 432x288 with 1 Axes>"
            ]
          },
          "metadata": {
            "needs_background": "light"
          },
          "output_type": "display_data"
        }
      ],
      "source": [
        "num_data=100 # data points per class\n",
        "\n",
        "x1=np.random.randn(2,num_data)+1\n",
        "x0=np.random.randn(2,num_data)\n",
        "\n",
        "y1=np.ones((1,num_data))\n",
        "y0=np.zeros((1,num_data))\n",
        "\n",
        "x=np.concatenate((x1,x0),axis=1)\n",
        "y=np.concatenate((y1,y0), axis=1)\n",
        "X=x\n",
        "print(X.shape)\n",
        "\n",
        "print(y.shape)\n",
        "\n",
        "\n",
        "plt.plot(x[0,:100],x[1,:100],'b*')\n",
        "plt.plot(x[0,100:],x[1,100:],'r*')"
      ]
    },
    {
      "cell_type": "code",
      "execution_count": 4,
      "metadata": {
        "colab": {
          "base_uri": "https://localhost:8080/"
        },
        "id": "crVSn6q3rLfF",
        "outputId": "9fbc38b8-c33a-4041-fd81-b744d49e5d02"
      },
      "outputs": [
        {
          "data": {
            "text/plain": [
              "(2, 200)"
            ]
          },
          "execution_count": 4,
          "metadata": {},
          "output_type": "execute_result"
        }
      ],
      "source": [
        "X.shape"
      ]
    },
    {
      "cell_type": "code",
      "execution_count": 5,
      "metadata": {
        "id": "LGUIc3yuAAHH"
      },
      "outputs": [],
      "source": [
        "def getZ(w,x,b):\n",
        "  return w@x + b\n",
        "\n",
        "def sigmoid(z):\n",
        "  return (1/(1+np.exp(-z)))\n",
        "\n",
        "def loss(y,yhat):\n",
        "  return np.sum(-y*np.log(yhat)-(1-y)*np.log(1-yhat), 1)"
      ]
    },
    {
      "cell_type": "code",
      "execution_count": 6,
      "metadata": {
        "colab": {
          "base_uri": "https://localhost:8080/"
        },
        "id": "2GMmE1zIknQ0",
        "outputId": "61268298-3e55-4cbb-f28d-9555e18a5568"
      },
      "outputs": [
        {
          "name": "stderr",
          "output_type": "stream",
          "text": [
            "/var/folders/yd/5k827nkn5rbcnfly0n4b286c0000gn/T/ipykernel_77700/269866403.py:8: RuntimeWarning: divide by zero encountered in log\n",
            "  return np.sum(-y*np.log(yhat)-(1-y)*np.log(1-yhat), 1)\n",
            "/var/folders/yd/5k827nkn5rbcnfly0n4b286c0000gn/T/ipykernel_77700/269866403.py:8: RuntimeWarning: invalid value encountered in multiply\n",
            "  return np.sum(-y*np.log(yhat)-(1-y)*np.log(1-yhat), 1)\n"
          ]
        }
      ],
      "source": [
        "input = 2\n",
        "h_layer1 = 100\n",
        "h_layer2 = 50\n",
        "output = 1\n",
        "\n",
        "\n",
        "w1 = np.random.random((h_layer1,input))\n",
        "b1 = np.zeros((h_layer1, 1))\n",
        "\n",
        "w2 = np.random.random((h_layer2, h_layer1))\n",
        "b2 = np.zeros((h_layer2, 1))\n",
        "\n",
        "w3 = np.random.random((output,h_layer2))\n",
        "b3 = np.zeros((output,1))\n",
        "\n",
        "ls = []\n",
        "lr = 0.01\n",
        "\n",
        "for i in range(10000):\n",
        "  #forword\n",
        "  z1 = getZ(w1,X,b1)\n",
        "  A1 = sigmoid(z1)\n",
        "\n",
        "  z2 = getZ(w2,A1,b2)\n",
        "  A2 = sigmoid(z2)\n",
        "\n",
        "  z3 = getZ(w3,A2,b3)\n",
        "  A3 = sigmoid(z3)\n",
        "\n",
        "  #Back propagation\n",
        "  l = loss(y,A3)\n",
        "  ls.append(l)\n",
        "\n",
        "  dz3 = A3 - y\n",
        "  dw3 = dz3@A2.T\n",
        "  db3 = np.sum(dz3,1,keepdims = True)\n",
        "\n",
        "  dz2 = (w3.T@dz3)*(A2*(1-A2))\n",
        "  dw2 = dz2@A1.T\n",
        "  db2 = np.sum(dz2,1, keepdims = True)\n",
        "\n",
        "  dz1 = (w2.T@dz2)*(A1*(1-A1))\n",
        "  dw1 = dz1@X.T\n",
        "  db1 = np.sum(dz1,1, keepdims = True)\n",
        "\n",
        "  w3 = w3-lr*dw3\n",
        "  b3 = b3-lr*db3\n",
        "  w2 = w2-lr*dw2\n",
        "  b2 = b2-lr*db2\n",
        "  w1 = w1-lr*dw1\n",
        "  b1 = b1-lr*db1\n"
      ]
    },
    {
      "cell_type": "code",
      "execution_count": 7,
      "metadata": {
        "colab": {
          "base_uri": "https://localhost:8080/",
          "height": 513
        },
        "id": "hrnwL2d2sPAP",
        "outputId": "dfd2d6bd-c694-41a3-ef4e-346c1c154437"
      },
      "outputs": [
        {
          "data": {
            "image/png": "[encoded data removed]",
            "text/plain": [
              "<Figure size 432x288 with 1 Axes>"
            ]
          },
          "metadata": {
            "needs_background": "light"
          },
          "output_type": "display_data"
        },
        {
          "data": {
            "image/png": "[encoded data removed]",
            "text/plain": [
              "<Figure size 432x288 with 1 Axes>"
            ]
          },
          "metadata": {
            "needs_background": "light"
          },
          "output_type": "display_data"
        }
      ],
      "source": [
        "plt.plot(ls)\n",
        "plotClass(X,A3>0.5,'.')"
      ]
    }
  ],
  "metadata": {
    "colab": {
      "collapsed_sections": [],
      "name": "OSAP_NN1.ipynb",
      "provenance": []
    },
    "kernelspec": {
      "display_name": "Python 3",
      "name": "python3"
    },
    "language_info": {
      "codemirror_mode": {
        "name": "ipython",
        "version": 3
      },
      "file_extension": ".py",
      "mimetype": "text/x-python",
      "name": "python",
      "nbconvert_exporter": "python",
      "pygments_lexer": "ipython3",
      "version": "3.8.7"
    }
  },
  "nbformat": 4,
  "nbformat_minor": 0
}
